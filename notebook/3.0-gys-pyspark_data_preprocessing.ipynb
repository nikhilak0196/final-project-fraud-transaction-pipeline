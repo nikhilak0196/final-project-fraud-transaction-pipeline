{
 "cells": [
  {
   "cell_type": "code",
   "execution_count": 1,
   "metadata": {},
   "outputs": [],
   "source": [
    "import os\n",
    "import sys\n",
    "\n",
    "\n",
    "os.environ['PYSPARK_PYTHON'] = sys.executable\n",
    "os.environ['PYSPARK_DRIVER_PYTHON'] = sys.executable"
   ]
  },
  {
   "cell_type": "code",
   "execution_count": 3,
   "metadata": {},
   "outputs": [],
   "source": [
    "import pyspark\n",
    "from pyspark.sql import SparkSession"
   ]
  },
  {
   "cell_type": "code",
   "execution_count": 4,
   "metadata": {},
   "outputs": [],
   "source": [
    "spark = SparkSession \\\n",
    "        .builder.appName('PreprocessData') \\\n",
    "        .master(\"local[*]\")\\\n",
    "        .getOrCreate()"
   ]
  },
  {
   "cell_type": "code",
   "execution_count": 5,
   "metadata": {},
   "outputs": [],
   "source": [
    "df = spark.read \\\n",
    "    .parquet('../data/raw/online_transaction.parquet')"
   ]
  },
  {
   "cell_type": "code",
   "execution_count": 6,
   "metadata": {},
   "outputs": [
    {
     "name": "stdout",
     "output_type": "stream",
     "text": [
      "+----+--------+---------+-----------+-------------+--------------+-----------+--------------+--------------+-------+--------------+\n",
      "|step|    type|   amount|   nameOrig|oldbalanceOrg|newbalanceOrig|   nameDest|oldbalanceDest|newbalanceDest|isFraud|isFlaggedFraud|\n",
      "+----+--------+---------+-----------+-------------+--------------+-----------+--------------+--------------+-------+--------------+\n",
      "|   1| PAYMENT|  9839.64|C1231006815|     170136.0|     160296.36|M1979787155|           0.0|           0.0|      0|             0|\n",
      "|   1| PAYMENT|  1864.28|C1666544295|      21249.0|      19384.72|M2044282225|           0.0|           0.0|      0|             0|\n",
      "|   1|TRANSFER|    181.0|C1305486145|        181.0|           0.0| C553264065|           0.0|           0.0|      1|             0|\n",
      "|   1|CASH_OUT|    181.0| C840083671|        181.0|           0.0|  C38997010|       21182.0|           0.0|      1|             0|\n",
      "|   1| PAYMENT| 11668.14|C2048537720|      41554.0|      29885.86|M1230701703|           0.0|           0.0|      0|             0|\n",
      "|   1| PAYMENT|  7817.71|  C90045638|      53860.0|      46042.29| M573487274|           0.0|           0.0|      0|             0|\n",
      "|   1| PAYMENT|  7107.77| C154988899|     183195.0|     176087.23| M408069119|           0.0|           0.0|      0|             0|\n",
      "|   1| PAYMENT|  7861.64|C1912850431|    176087.23|     168225.59| M633326333|           0.0|           0.0|      0|             0|\n",
      "|   1| PAYMENT|  4024.36|C1265012928|       2671.0|           0.0|M1176932104|           0.0|           0.0|      0|             0|\n",
      "|   1|   DEBIT|  5337.77| C712410124|      41720.0|      36382.23| C195600860|       41898.0|      40348.79|      0|             0|\n",
      "|   1|   DEBIT|  9644.94|C1900366749|       4465.0|           0.0| C997608398|       10845.0|     157982.12|      0|             0|\n",
      "|   1| PAYMENT|  3099.97| C249177573|      20771.0|      17671.03|M2096539129|           0.0|           0.0|      0|             0|\n",
      "|   1| PAYMENT|  2560.74|C1648232591|       5070.0|       2509.26| M972865270|           0.0|           0.0|      0|             0|\n",
      "|   1| PAYMENT| 11633.76|C1716932897|      10127.0|           0.0| M801569151|           0.0|           0.0|      0|             0|\n",
      "|   1| PAYMENT|  4098.78|C1026483832|     503264.0|     499165.22|M1635378213|           0.0|           0.0|      0|             0|\n",
      "|   1|CASH_OUT|229133.94| C905080434|      15325.0|           0.0| C476402209|        5083.0|      51513.44|      0|             0|\n",
      "|   1| PAYMENT|  1563.82| C761750706|        450.0|           0.0|M1731217984|           0.0|           0.0|      0|             0|\n",
      "|   1| PAYMENT|  1157.86|C1237762639|      21156.0|      19998.14|M1877062907|           0.0|           0.0|      0|             0|\n",
      "|   1| PAYMENT|   671.64|C2033524545|      15123.0|      14451.36| M473053293|           0.0|           0.0|      0|             0|\n",
      "|   1|TRANSFER| 215310.3|C1670993182|        705.0|           0.0|C1100439041|       22425.0|           0.0|      0|             0|\n",
      "+----+--------+---------+-----------+-------------+--------------+-----------+--------------+--------------+-------+--------------+\n",
      "only showing top 20 rows\n",
      "\n"
     ]
    }
   ],
   "source": [
    "df.show()"
   ]
  },
  {
   "cell_type": "code",
   "execution_count": 8,
   "metadata": {},
   "outputs": [],
   "source": [
    "from datetime import datetime, timedelta\n",
    "from pyspark.sql import functions as F\n",
    "\n",
    "dt = datetime(2023, 5, 1, 0)\n",
    "# print(dt + timedelta(days = 4, hours=700))\n",
    "\n",
    "def step_to_date(step, dt = dt):\n",
    "    step = int(step)\n",
    "    new_dt = dt + timedelta(hours=step)\n",
    "\n",
    "    new_dt_str = new_dt.__str__()\n",
    "    return new_dt_str"
   ]
  },
  {
   "cell_type": "code",
   "execution_count": 9,
   "metadata": {},
   "outputs": [],
   "source": [
    "from pyspark.sql.types import TimestampType, StringType\n",
    "\n",
    "step_to_date_UDF = F.udf(lambda z: step_to_date(z),StringType())"
   ]
  },
  {
   "cell_type": "code",
   "execution_count": 12,
   "metadata": {},
   "outputs": [
    {
     "name": "stdout",
     "output_type": "stream",
     "text": [
      "+----+--------+---------+-----------+-------------+--------------+-----------+--------------+--------------+-------+--------------+-------------------+\n",
      "|step|    type|   amount|   nameOrig|oldbalanceOrg|newbalanceOrig|   nameDest|oldbalanceDest|newbalanceDest|isFraud|isFlaggedFraud|           datetime|\n",
      "+----+--------+---------+-----------+-------------+--------------+-----------+--------------+--------------+-------+--------------+-------------------+\n",
      "|   1| PAYMENT|  9839.64|C1231006815|     170136.0|     160296.36|M1979787155|           0.0|           0.0|      0|             0|2023-05-01 01:00:00|\n",
      "|   1| PAYMENT|  1864.28|C1666544295|      21249.0|      19384.72|M2044282225|           0.0|           0.0|      0|             0|2023-05-01 01:00:00|\n",
      "|   1|TRANSFER|    181.0|C1305486145|        181.0|           0.0| C553264065|           0.0|           0.0|      1|             0|2023-05-01 01:00:00|\n",
      "|   1|CASH_OUT|    181.0| C840083671|        181.0|           0.0|  C38997010|       21182.0|           0.0|      1|             0|2023-05-01 01:00:00|\n",
      "|   1| PAYMENT| 11668.14|C2048537720|      41554.0|      29885.86|M1230701703|           0.0|           0.0|      0|             0|2023-05-01 01:00:00|\n",
      "|   1| PAYMENT|  7817.71|  C90045638|      53860.0|      46042.29| M573487274|           0.0|           0.0|      0|             0|2023-05-01 01:00:00|\n",
      "|   1| PAYMENT|  7107.77| C154988899|     183195.0|     176087.23| M408069119|           0.0|           0.0|      0|             0|2023-05-01 01:00:00|\n",
      "|   1| PAYMENT|  7861.64|C1912850431|    176087.23|     168225.59| M633326333|           0.0|           0.0|      0|             0|2023-05-01 01:00:00|\n",
      "|   1| PAYMENT|  4024.36|C1265012928|       2671.0|           0.0|M1176932104|           0.0|           0.0|      0|             0|2023-05-01 01:00:00|\n",
      "|   1|   DEBIT|  5337.77| C712410124|      41720.0|      36382.23| C195600860|       41898.0|      40348.79|      0|             0|2023-05-01 01:00:00|\n",
      "|   1|   DEBIT|  9644.94|C1900366749|       4465.0|           0.0| C997608398|       10845.0|     157982.12|      0|             0|2023-05-01 01:00:00|\n",
      "|   1| PAYMENT|  3099.97| C249177573|      20771.0|      17671.03|M2096539129|           0.0|           0.0|      0|             0|2023-05-01 01:00:00|\n",
      "|   1| PAYMENT|  2560.74|C1648232591|       5070.0|       2509.26| M972865270|           0.0|           0.0|      0|             0|2023-05-01 01:00:00|\n",
      "|   1| PAYMENT| 11633.76|C1716932897|      10127.0|           0.0| M801569151|           0.0|           0.0|      0|             0|2023-05-01 01:00:00|\n",
      "|   1| PAYMENT|  4098.78|C1026483832|     503264.0|     499165.22|M1635378213|           0.0|           0.0|      0|             0|2023-05-01 01:00:00|\n",
      "|   1|CASH_OUT|229133.94| C905080434|      15325.0|           0.0| C476402209|        5083.0|      51513.44|      0|             0|2023-05-01 01:00:00|\n",
      "|   1| PAYMENT|  1563.82| C761750706|        450.0|           0.0|M1731217984|           0.0|           0.0|      0|             0|2023-05-01 01:00:00|\n",
      "|   1| PAYMENT|  1157.86|C1237762639|      21156.0|      19998.14|M1877062907|           0.0|           0.0|      0|             0|2023-05-01 01:00:00|\n",
      "|   1| PAYMENT|   671.64|C2033524545|      15123.0|      14451.36| M473053293|           0.0|           0.0|      0|             0|2023-05-01 01:00:00|\n",
      "|   1|TRANSFER| 215310.3|C1670993182|        705.0|           0.0|C1100439041|       22425.0|           0.0|      0|             0|2023-05-01 01:00:00|\n",
      "+----+--------+---------+-----------+-------------+--------------+-----------+--------------+--------------+-------+--------------+-------------------+\n",
      "only showing top 20 rows\n",
      "\n"
     ]
    }
   ],
   "source": [
    "df_transform = df.withColumn('datetime',\\\n",
    "              F.to_timestamp(\\\n",
    "                  step_to_date_UDF(F.col('step'))\\\n",
    "              ))\n",
    "\n",
    "df_transform.show()"
   ]
  },
  {
   "cell_type": "code",
   "execution_count": 16,
   "metadata": {},
   "outputs": [],
   "source": [
    "df_transform = df_transform.withColumn('DiffOrg',\n",
    "                        F.when(\n",
    "                            F.col('type') == 'CASH_IN',\n",
    "                            F.round(F.col('newbalanceOrig') - F.col('oldbalanceOrg'), 2)\n",
    "                        )\\\n",
    "                        .otherwise(\n",
    "                            F.round(F.col('oldbalanceOrg') - F.col('newbalanceOrig'), 2)\n",
    "                        )\n",
    "                )"
   ]
  },
  {
   "cell_type": "code",
   "execution_count": 17,
   "metadata": {},
   "outputs": [],
   "source": [
    "df_transform = df_transform.withColumn('DiffOrgStatus',\n",
    "                        F.when(\n",
    "                            F.col('amount') == F.col('DiffOrg'),\n",
    "                            1\n",
    "                        )\\\n",
    "                        .otherwise(\n",
    "                            0\n",
    "                        )\n",
    "                )"
   ]
  },
  {
   "cell_type": "code",
   "execution_count": 18,
   "metadata": {},
   "outputs": [],
   "source": [
    "df_transform = df_transform.drop('nameDest', 'oldbalanceDest', 'newbalanceDest')"
   ]
  },
  {
   "cell_type": "code",
   "execution_count": 20,
   "metadata": {},
   "outputs": [
    {
     "name": "stdout",
     "output_type": "stream",
     "text": [
      "+----+--------+---------+-----------+-------------+--------------+-------+--------------+-------------------+--------+-------------+\n",
      "|step|    type|   amount|   nameOrig|oldbalanceOrg|newbalanceOrig|isFraud|isFlaggedFraud|           datetime| DiffOrg|DiffOrgStatus|\n",
      "+----+--------+---------+-----------+-------------+--------------+-------+--------------+-------------------+--------+-------------+\n",
      "|   1| PAYMENT|  9839.64|C1231006815|     170136.0|     160296.36|      0|             0|2023-05-01 01:00:00| 9839.64|            1|\n",
      "|   1| PAYMENT|  1864.28|C1666544295|      21249.0|      19384.72|      0|             0|2023-05-01 01:00:00| 1864.28|            1|\n",
      "|   1|TRANSFER|    181.0|C1305486145|        181.0|           0.0|      1|             0|2023-05-01 01:00:00|   181.0|            1|\n",
      "|   1|CASH_OUT|    181.0| C840083671|        181.0|           0.0|      1|             0|2023-05-01 01:00:00|   181.0|            1|\n",
      "|   1| PAYMENT| 11668.14|C2048537720|      41554.0|      29885.86|      0|             0|2023-05-01 01:00:00|11668.14|            1|\n",
      "|   1| PAYMENT|  7817.71|  C90045638|      53860.0|      46042.29|      0|             0|2023-05-01 01:00:00| 7817.71|            1|\n",
      "|   1| PAYMENT|  7107.77| C154988899|     183195.0|     176087.23|      0|             0|2023-05-01 01:00:00| 7107.77|            1|\n",
      "|   1| PAYMENT|  7861.64|C1912850431|    176087.23|     168225.59|      0|             0|2023-05-01 01:00:00| 7861.64|            1|\n",
      "|   1| PAYMENT|  4024.36|C1265012928|       2671.0|           0.0|      0|             0|2023-05-01 01:00:00|  2671.0|            0|\n",
      "|   1|   DEBIT|  5337.77| C712410124|      41720.0|      36382.23|      0|             0|2023-05-01 01:00:00| 5337.77|            1|\n",
      "|   1|   DEBIT|  9644.94|C1900366749|       4465.0|           0.0|      0|             0|2023-05-01 01:00:00|  4465.0|            0|\n",
      "|   1| PAYMENT|  3099.97| C249177573|      20771.0|      17671.03|      0|             0|2023-05-01 01:00:00| 3099.97|            1|\n",
      "|   1| PAYMENT|  2560.74|C1648232591|       5070.0|       2509.26|      0|             0|2023-05-01 01:00:00| 2560.74|            1|\n",
      "|   1| PAYMENT| 11633.76|C1716932897|      10127.0|           0.0|      0|             0|2023-05-01 01:00:00| 10127.0|            0|\n",
      "|   1| PAYMENT|  4098.78|C1026483832|     503264.0|     499165.22|      0|             0|2023-05-01 01:00:00| 4098.78|            1|\n",
      "|   1|CASH_OUT|229133.94| C905080434|      15325.0|           0.0|      0|             0|2023-05-01 01:00:00| 15325.0|            0|\n",
      "|   1| PAYMENT|  1563.82| C761750706|        450.0|           0.0|      0|             0|2023-05-01 01:00:00|   450.0|            0|\n",
      "|   1| PAYMENT|  1157.86|C1237762639|      21156.0|      19998.14|      0|             0|2023-05-01 01:00:00| 1157.86|            1|\n",
      "|   1| PAYMENT|   671.64|C2033524545|      15123.0|      14451.36|      0|             0|2023-05-01 01:00:00|  671.64|            1|\n",
      "|   1|TRANSFER| 215310.3|C1670993182|        705.0|           0.0|      0|             0|2023-05-01 01:00:00|   705.0|            0|\n",
      "+----+--------+---------+-----------+-------------+--------------+-------+--------------+-------------------+--------+-------------+\n",
      "only showing top 20 rows\n",
      "\n"
     ]
    }
   ],
   "source": [
    "df_transform.show()"
   ]
  },
  {
   "cell_type": "code",
   "execution_count": null,
   "metadata": {},
   "outputs": [],
   "source": [
    "df_transform.write.parquet(\"../data/preprocessed/online_transactions.parquet\")"
   ]
  },
  {
   "cell_type": "code",
   "execution_count": 7,
   "metadata": {},
   "outputs": [
    {
     "data": {
      "text/plain": [
       "'20230721114921'"
      ]
     },
     "execution_count": 7,
     "metadata": {},
     "output_type": "execute_result"
    }
   ],
   "source": [
    "import datetime\n",
    "\n",
    "f\"{datetime.datetime.now().strftime('%Y%m%d%H%M%S')}\""
   ]
  },
  {
   "cell_type": "code",
   "execution_count": null,
   "metadata": {},
   "outputs": [],
   "source": []
  }
 ],
 "metadata": {
  "kernelspec": {
   "display_name": ".venv-3.8",
   "language": "python",
   "name": "python3"
  },
  "language_info": {
   "codemirror_mode": {
    "name": "ipython",
    "version": 3
   },
   "file_extension": ".py",
   "mimetype": "text/x-python",
   "name": "python",
   "nbconvert_exporter": "python",
   "pygments_lexer": "ipython3",
   "version": "3.8.10"
  },
  "orig_nbformat": 4
 },
 "nbformat": 4,
 "nbformat_minor": 2
}
